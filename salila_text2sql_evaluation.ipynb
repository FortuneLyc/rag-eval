{
 "cells": [
  {
   "cell_type": "markdown",
   "metadata": {},
   "source": [
    "# Salila Text2SQL 评估体系使用指南\n",
    "\n",
    "本笔记本展示如何使用基于ragas框架构建的Salila Text2SQL评估体系来评估Text2SQL模型的性能。"
   ]
  },
  {
   "cell_type": "markdown",
   "metadata": {},
   "source": [
    "## 1. 环境设置与依赖安装\n",
    "\n",
    "首先，我们需要确保已经创建了conda环境并安装了所需的依赖包。"
   ]
  },
  {
   "cell_type": "code",
   "execution_count": null,
   "metadata": {},
   "outputs": [],
   "source": [
    "# 安装依赖包（如果尚未安装）\n",
    "!pip install -r requirements.txt"
   ]
  },
  {
   "cell_type": "markdown",
   "metadata": {},
   "source": [
    "## 2. 导入必要的库和模块\n",
    "\n",
    "导入我们需要的库和自定义的评估器类。"
   ]
  },
  {
   "cell_type": "code",
   "execution_count": null,
   "metadata": {},
   "outputs": [],
   "source": [
    "import os\n",
    "import pandas as pd\n",
    "import json\n",
    "from main import SalilaText2SQLEvaluator\n",
    "import matplotlib.pyplot as plt\n",
    "import seaborn as sns\n",
    "\n",
    "# 设置中文字体显示\n",
    "plt.rcParams['font.sans-serif'] = ['SimHei']  # 用来正常显示中文标签\n",
    "plt.rcParams['axes.unicode_minus'] = False  # 用来正常显示负号"
   ]
  },
  {
   "cell_type": "markdown",
   "metadata": {},
   "source": [
    "## 3. 设置OpenAI API密钥\n",
    "\n",
    "某些评估指标需要使用OpenAI的模型，因此我们需要设置API密钥。"
   ]
  },
  {
   "cell_type": "code",
   "execution_count": null,
   "metadata": {},
   "outputs": [],
   "source": [
    "# 设置OpenAI API密钥\n",
    "# 方法1: 直接在代码中设置\n",
    "# openai_api_key = 'your_api_key_here'\n",
    "\n",
    "# 方法2: 从环境变量中获取\n",
    "# 如果使用方法2，请确保已设置环境变量\n",
    "openai_api_key = None  # 让评估器自动从环境变量获取"
   ]
  },
  {
   "cell_type": "markdown",
   "metadata": {},
   "source": [
    "## 4. 创建评估器实例\n",
    "\n",
    "创建我们自定义的SalilaText2SQLEvaluator评估器实例。"
   ]
  },
  {
   "cell_type": "code",
   "execution_count": null,
   "metadata": {},
   "outputs": [],
   "source": [
    "# 创建评估器实例\n",
    "evaluator = SalilaText2SQLEvaluator(openai_api_key=openai_api_key)"
   ]
  },
  {
   "cell_type": "markdown",
   "metadata": {},
   "source": [
    "## 5. 准备测试数据集\n",
    "\n",
    "为了演示，我们创建一个简单的测试数据集。在实际应用中，您应该替换为实际的Salila数据集。"
   ]
  },
  {
   "cell_type": "code",
   "execution_count": null,
   "metadata": {},
   "outputs": [],
   "source": [
    "# 创建测试数据集\n",
    "test_data = [\n",
    "    {\n",
    "        ""question"": ""2023年第一季度的总销售额是多少？"",\n",
    "        ""context"": ""sales表包含日期(date)、产品(product)、销售额(amount)等字段。"",\n",
    "        ""ground_truth"": ""SELECT SUM(amount) FROM sales WHERE date BETWEEN '2023-01-01' AND '2023-03-31';""\n",
    "    },\n",
    "    {\n",
    "        ""question"": ""哪些产品的销售额超过1000元？"",\n",
    "        ""context"": ""products表包含产品ID(id)、产品名称(name)、类别(category)等字段。sales表包含产品ID(product_id)、销售额(amount)等字段。"",\n",
    "        ""ground_truth"": ""SELECT p.name FROM products p JOIN sales s ON p.id = s.product_id WHERE s.amount > 1000;""\n",
    "    },\n",
    "    {\n",
    "        ""question"": ""每个类别的产品数量是多少？"",\n",
    "        ""context"": ""products表包含产品ID(id)、产品名称(name)、类别(category)等字段。"",\n",
    "        ""ground_truth"": ""SELECT category, COUNT(*) as product_count FROM products GROUP BY category;""\n",
    "    }\n",
    "]\n",
    "\n",
    "# 保存测试数据集\n",
    "with open(""test_salila_dataset.json"", 'w', encoding='utf-8') as f:\n",
    "    json.dump(test_data, f, ensure_ascii=False, indent=2)\n",
    "\n",
    "# 加载测试数据集\n",
    "evaluator.load_dataset(""test_salila_dataset.json"")\n",
    "\n",
    "# 查看数据集\n",
    "dataset_df = pd.DataFrame(test_data)\n",
    "dataset_df"
   ]
  },
  {
   "cell_type": "markdown",
   "metadata": {},
   "source": [
    "## 6. 生成模型预测\n",
    "\n",
    "在实际应用中，这里应该使用您的Text2SQL模型来生成预测结果。为了演示，我们使用一个简单的示例预测生成函数。"
   ]
  },
  {
   "cell_type": "code",
   "execution_count": null,
   "metadata": {},
   "outputs": [],
   "source": [
    "# 生成示例预测\n",
    "# 在实际应用中，这里应该替换为您的Text2SQL模型的预测逻辑\n",
    "predictions = evaluator.generate_sample_predictions()\n",
    "\n",
    "# 查看预测结果\n",
    "for i, (question, prediction, ground_truth) in enumerate(zip(dataset_df['question'], predictions, dataset_df['ground_truth'])):\n",
    "    print(f""\n示例 {i+1}:"")\n",
    "    print(f""问题: {question}"")\n",
    "    print(f""预测SQL: {prediction}"")\n",
    "    print(f""真实SQL: {ground_truth}"")"
   ]
  },
  {
   "cell_type": "markdown",
   "metadata": {},
   "source": [
    "## 7. 执行评估\n",
    "\n",
    "使用ragas框架执行评估，获取各项评估指标的得分。"
   ]
  },
  {
   "cell_type": "code",
   "execution_count": null,
   "metadata": {},
   "outputs": [],
   "source": [
    "# 执行评估\n",
    "results = evaluator.evaluate_model(predictions)\n",
    "\n",
    "# 查看评估结果\n",
    "print(""评估结果:"")\n",
    "for metric, score in results.items():\n",
    "    print(f""{metric}: {score:.4f}"")"
   ]
  },
  {
   "cell_type": "markdown",
   "metadata": {},
   "source": [
    "## 8. 可视化评估结果\n",
    "\n",
    "使用图表直观展示评估结果。"
   ]
  },
  {
   "cell_type": "code",
   "execution_count": null,
   "metadata": {},
   "outputs": [],
   "source": [
    "# 可视化评估结果\n",
    "metrics = list(results.keys())\n",
    "scores = list(results.values())\n",
    "\n",
    "plt.figure(figsize=(12, 6))\n",
    "bars = sns.barplot(x=metrics, y=scores, palette='viridis')\n",
    "plt.title('Text2SQL模型评估结果', fontsize=16)\n",
    "plt.xlabel('评估指标', fontsize=14)\n",
    "plt.ylabel('得分', fontsize=14)\n",
    "plt.ylim(0, 1)\n",
    "\n",
    "# 在每个柱子上显示数值\n",
    "for bar in bars.patches:\n",
    "    height = bar.get_height()\n",
    "    plt.text(bar.get_x() + bar.get_width()/2., height + 0.01,\n",
    "             f'{height:.4f}', ha='center', va='bottom')\n",
    "\n",
    "plt.xticks(rotation=45, ha='right')\n",
    "plt.tight_layout()\n",
    "plt.show()"
   ]
  },
  {
   "cell_type": "markdown",
   "metadata": {},
   "source": [
    "## 9. 保存评估结果\n",
    "\n",
    "将评估结果保存为文件，方便后续分析和比较。"
   ]
  },
  {
   "cell_type": "code",
   "execution_count": null,
   "metadata": {},
   "outputs": [],
   "source": [
    "# 保存评估结果\n",
    "evaluator.save_results(""evaluation_results.json"")\n",
    "print(""评估结果已保存到 evaluation_results.json 和 evaluation_results.csv""")"
   ]
  },
  {
   "cell_type": "markdown",
   "metadata": {},
   "source": [
    "## 10. 实际应用示例\n",
    "\n",
    "下面是一个更完整的实际应用示例，展示如何将评估体系集成到您的Text2SQL模型评估流程中。"
   ]
  },
  {
   "cell_type": "code",
   "execution_count": null,
   "metadata": {},
   "outputs": [],
   "source": [
    "# 实际应用示例\n",
    "class YourText2SQLModel:\n",
    "    """示例Text2SQL模型类，实际应用中请替换为您自己的模型"""\n",
    "    \n",
    "    def generate_predictions(self, questions, contexts):\n",
    "        """生成SQL查询预测\n",
    "        \n",
    "        Args:\n",
    "            questions: 问题列表\n",
    "            contexts: 上下文列表\n",
    "        \n",
    "        Returns:\n",
    "            预测的SQL查询列表\n",
    "        """\n",
    "        # 这里应该是您的实际模型预测逻辑\n",
    "        # 为了演示，我们返回一些简单的示例预测\n",
    "        predictions = []\n",
    "        for question, context in zip(questions, contexts):\n",
    "            # 模拟模型预测过程\n",
    "            if '销售额' in question:\n",
    "                predictions.append(""SELECT SUM(amount) FROM sales;""")\n",
    "            elif '产品' in question and '数量' in question:\n",
    "                predictions.append(""SELECT COUNT(*) FROM products;""")\n",
    "            else:\n",
    "                predictions.append(""SELECT * FROM table LIMIT 10;""")\n",
    "        return predictions\n",
    "\n",
    "# 创建模型实例\n",
    "model = YourText2SQLModel()\n",
    "\n",
    "# 使用模型生成预测\n",
    "real_predictions = model.generate_predictions(dataset_df['question'], dataset_df['context'])\n",
    "\n",
    "# 执行评估\n",
    "real_results = evaluator.evaluate_model(real_predictions)\n",
    "\n",
    "# 保存评估结果\n",
    "evaluator.save_results(""real_model_evaluation_results.json"")\n",
    "\n",
    "# 打印评估结果\n",
    "print(""实际模型评估结果:"")\n",
    "for metric, score in real_results.items():\n",
    "    print(f""{metric}: {score:.4f}"")"
   ]
  },
  {
   "cell_type": "markdown",
   "metadata": {},
   "source": [
    "## 11. 结论与扩展建议\n",
    "\n",
    "基于评估结果，您可以了解Text2SQL模型的性能表现，并根据需要进行改进。以下是一些扩展建议：\n",
    "\n",
    "1. 根据评估结果，针对性地改进模型在表现较差的指标上的性能\n",
    "2. 尝试使用更多的评估指标，全面了解模型的优缺点\n",
    "3. 进行交叉验证，提高评估结果的可靠性\n",
    "4. 比较不同模型或不同参数配置下的评估结果，选择最优模型\n",
    "5. 可视化更多维度的评估结果，如按问题类型、难度级别等进行分析"
   ]
  }
 ],
 "metadata": {
  "kernelspec": {
   "display_name": "Python 3 (ipykernel)",
   "language": "python",
   "name": "python3"
  },
  "language_info": {
   "codemirror_mode": {
    "name": "ipython",
    "version": 3
   },
   "file_extension": ".py",
   "mimetype": "text/x-python",
   "name": "python",
   "nbconvert_exporter": "python",
   "pygments_lexer": "ipython3",
   "version": "3.10.0"
  }
 },
 "nbformat": 4,
 "nbformat_minor": 2
}