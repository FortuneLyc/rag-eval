{
 "cells": [
  {
   "cell_type": "markdown",
   "metadata": {},
   "source": [
    "# Salila Text2SQL 评估体系使用指南（支持xinference本地模型与API密钥）\n",
    "\n",
    "本笔记本展示如何使用基于ragas框架构建的Salila Text2SQL评估体系来评估Text2SQL模型的性能，支持使用xinference本地部署的模型并配置API密钥。"
   ]
  },
  {
   "cell_type": "markdown",
   "metadata": {},
   "source": [
    "## 1. 环境设置与依赖安装\n",
    "\n",
    "首先，我们需要确保已经创建了conda环境并安装了所需的依赖包。" 
   ]
  },
  {
   "cell_type": "code",
   "execution_count": null,
   "metadata": {},
   "outputs": [],
   "source": [
    "# 安装依赖包（如果尚未安装）\n",
    "!pip install -r requirements.txt"
   ]
  },
  {
   "cell_type": "markdown",
   "metadata": {},
   "source": [
    "## 2. 导入必要的库和模块\n",
    "\n",
    "导入我们需要的库和自定义的评估器类。"
   ]
  },
  {
   "cell_type": "code",
   "execution_count": null,
   "metadata": {},
   "outputs": [],
   "source": [
    "import os\n",
    "import pandas as pd\n",
    "import json\n",
    "from main import SalilaText2SQLEvaluator\n",
    "import matplotlib.pyplot as plt\n",
    "import seaborn as sns\n",
    "\n",
    "# 设置中文字体显示\n",
    "plt.rcParams['font.sans-serif'] = ['SimHei']  # 用来正常显示中文标签\n",
    "plt.rcParams['axes.unicode_minus'] = False  # 用来正常显示负号"
   ]
  },
  {
   "cell_type": "markdown",
   "metadata": {},
   "source": [
    "## 3. 设置评估配置\n",
    "\n",
    "设置评估所需的配置，包括是否使用xinference本地模型、服务器地址、模型UID以及API密钥。" 
   ]
  },
  {
   "cell_type": "code",
   "execution_count": null,
   "metadata": {},
   "outputs": [],
   "source": [
    "# 选择评估方式\n",
    "use_xinference = True  # 设置为True使用xinference本地模型，False使用OpenAI API\n",
    "\n",
    "if not use_xinference:\n",
    "    # 使用OpenAI API的配置\n",
    "    # 方法1: 直接在代码中设置\n",
    "    # openai_api_key = 'your_api_key_here'\n",
    "    \n",
    "    # 方法2: 从环境变量中获取\n",
    "    openai_api_key = None  # 让评估器自动从环境变量获取\n",
    "else:\n",
    "    # 使用xinference本地模型的配置\n",
    "    xinference_server_url = \"http://localhost:9997\"  # 默认xinference服务器地址\n",
    "    # 可以指定具体的模型UID，如果不指定将使用默认模型\n",
    "    llm_model_uid = None  # 例如: \"your_llm_model_uid\"\n",
    "    embedding_model_uid = None  # 例如: \"your_embedding_model_uid\"\n",
    "    \n",
    "    # 设置xinference API密钥\n",
    "    # 方法1: 直接在代码中设置\n",
    "    # xinference_api_key = 'your_xinference_api_key_here'\n",
    "    \n",
    "    # 方法2: 从环境变量中获取\n",
    "    xinference_api_key = os.getenv('XINFERENCE_API_KEY')  # 从环境变量获取API密钥\n",
    "    \n",
    "    # 如果未设置API密钥，使用空值\n",
    "    # xinference_api_key = None  # 不使用API密钥"
   ]
  },
  {
   "cell_type": "markdown",
   "metadata": {},
   "source": [
    "## 4. 创建评估器实例\n",
    "\n",
    "根据选择的评估方式，创建我们自定义的SalilaText2SQLEvaluator评估器实例。" 
   ]
  },
  {
   "cell_type": "code",
   "execution_count": null,
   "metadata": {},
   "outputs": [],
   "source": [
    "# 创建评估器实例\n",
    "if not use_xinference:\n",
    "    # 使用OpenAI API\n",
    "    evaluator = SalilaText2SQLEvaluator(openai_api_key=openai_api_key)\n",
    "else:\n",
    "    # 使用xinference本地模型\n",
    "    evaluator = SalilaText2SQLEvaluator(\n",
    "        use_xinference=True,\n",
    "        xinference_server_url=xinference_server_url,\n",
    "        llm_model_uid=llm_model_uid,\n",
    "        embedding_model_uid=embedding_model_uid,\n",
    "        xinference_api_key=xinference_api_key  # 传递API密钥参数\n",
    "    )"
   ]
  },
  {
   "cell_type": "markdown",
   "metadata": {},
   "source": [
    "## 5. 准备测试数据集\n",
    "\n",
    "为了演示，我们创建一个简单的测试数据集。在实际应用中，您应该替换为实际的Salila数据集。"
   ]
  },
  {
   "cell_type": "code",
   "execution_count": null,
   "metadata": {},
   "outputs": [],
   "source": [
    "# 创建测试数据集\n",
    "test_data = [\n",
    "    {\n",
    "        \"question\": \"2023年第一季度的总销售额是多少？\",\n",
    "        \"context\": \"sales表包含日期(date)、产品(product)、销售额(amount)等字段。\",\n",
    "        \"ground_truth\": \"SELECT SUM(amount) FROM sales WHERE date BETWEEN '2023-01-01' AND '2023-03-31';\"\n",
    "    },\n",
    "    {\n",
    "        \"question\": \"哪些产品的销售额超过1000元？\",\n",
    "        \"context\": \"products表包含产品ID(id)、产品名称(name)、类别(category)等字段。sales表包含产品ID(product_id)、销售额(amount)等字段。\",\n",
    "        \"ground_truth\": \"SELECT p.name FROM products p JOIN sales s ON p.id = s.product_id WHERE s.amount > 1000;\"\n",
    "    },\n",
    "    {\n",
    "        \"question\": \"每个类别的产品数量是多少？\",\n",
    "        \"context\": \"products表包含产品ID(id)、产品名称(name)、类别(category)等字段。\",\n",
    "        \"ground_truth\": \"SELECT category, COUNT(*) as product_count FROM products GROUP BY category;\"\n",
    "    }\n",
    "]\n",
    "\n",
    "# 保存测试数据集\n",
    "with open(\"test_salila_dataset.json\", 'w', encoding='utf-8') as f:\n",
    "    json.dump(test_data, f, ensure_ascii=False, indent=2)\n",
    "\n",
    "# 加载测试数据集\n",
    "evaluator.load_dataset(\"test_salila_dataset.json\")\n",
    "\n",
    "# 查看数据集\n",
    "dataset_df = pd.DataFrame(test_data)\n",
    "dataset_df"
   ]
  },
  {
   "cell_type": "markdown",
   "metadata": {},
   "source": [
    "## 6. 生成模型预测\n",
    "\n",
    "在实际应用中，这里应该使用您的Text2SQL模型来生成预测结果。为了演示，我们使用一个简单的示例预测生成函数。"
   ]
  },
  {
   "cell_type": "code",
   "execution_count": null,
   "metadata": {},
   "outputs": [],
   "source": [
    "# 生成示例预测\n",
    "# 在实际应用中，这里应该替换为您的Text2SQL模型的预测逻辑\n",
    "predictions = evaluator.generate_sample_predictions()\n",
    "\n",
    "# 查看预测结果\n",
    "for i, (question, prediction, ground_truth) in enumerate(zip(dataset_df['question'], predictions, dataset_df['ground_truth'])):\n",
    "    print(f\"\n示例 {i+1}:\")\n",
    "    print(f\"问题: {question}\")\n",
    "    print(f\"预测SQL: {prediction}\")\n",
    "    print(f\"真实SQL: {ground_truth}\")"
   ]
  },
  {
   "cell_type": "markdown",
   "metadata": {},
   "source": [
    "## 7. 执行评估\n",
    "\n",
    "使用ragas框架执行评估，获取各项评估指标的得分。评估会自动使用您选择的模型（OpenAI或xinference本地模型）和配置的API密钥。" 
   ]
  },
  {
   "cell_type": "code",
   "execution_count": null,
   "metadata": {},
   "outputs": [],
   "source": [
    "# 执行评估\n",
    "try:\n",
    "    results = evaluator.evaluate_model(predictions)\n",
    "    \n",
    "    # 打印评估结果\n",
    "    print(\"\n评估结果:\")\n",
    "    for metric, score in results.items():\n",
    "        print(f\"{metric}: {score:.4f}\")\n",
    "except Exception as e:\n",
    "    print(f\"评估过程中发生错误: {str(e)}")"
   ]
  },
  {
   "cell_type": "markdown",
   "metadata": {},
   "source": [
    "## 8. 可视化评估结果\n",
    "\n",
    "将评估结果可视化为图表，以便更直观地理解模型的表现。"
   ]
  },
  {
   "cell_type": "code",
   "execution_count": null,
   "metadata": {},
   "outputs": [],
   "source": [
    "# 可视化评估结果\n",
    "try:\n",
    "    evaluator.visualize_results()\n",
    "except Exception as e:\n",
    "    print(f\"可视化过程中发生错误: {str(e)}")"
   ]
  },
  {
   "cell_type": "markdown",
   "metadata": {},
   "source": [
    "## 9. 保存评估结果\n",
    "\n",
    "将评估结果保存为文件，以便后续分析和比较。"
   ]
  },
  {
   "cell_type": "code",
   "execution_count": null,
   "metadata": {},
   "outputs": [],
   "source": [
    "# 保存评估结果\n",
    "try:\n",
    "    evaluator.save_results(\"evaluation_results_with_xinference_api_key.json\")\n",
    "    print(\"评估结果已保存到evaluation_results_with_xinference_api_key.json文件\")\n",
    "except Exception as e:\n",
    "    print(f\"保存评估结果时发生错误: {str(e)}")"
   ]
  },
  {
   "cell_type": "markdown",
   "metadata": {},
   "source": [
    "## 10. 实际应用示例\n",
    "\n",
    "下面是一个实际应用的完整示例，包括加载自定义数据集、使用真实的Text2SQL模型进行预测，然后评估模型性能。"
   ]
  },
  {
   "cell_type": "code",
   "execution_count": null,
   "metadata": {},
   "outputs": [],
   "source": [
    "# 定义一个示例Text2SQL模型类\n",
    "class YourText2SQLModel:\n",
    "    def __init__(self):\n",
    "        # 初始化您的Text2SQL模型\n",
    "        # 在实际应用中，这里应该加载您训练好的模型\n",
    "        self.model = None\n",
    "    \n",
    "    def generate_predictions(self, questions, contexts):\n",
    "        # 生成SQL预测\n",
    "        # 在实际应用中，这里应该使用您的模型进行预测\n",
    "        # 这里仅作为示例，返回一些模拟的预测结果\n",
    "        predictions = []\n",
    "        for question, context in zip(questions, contexts):\n",
    "            # 这里是模拟预测逻辑，实际应用中应替换为真实模型的预测\n",
    "            if '销售额' in question and '总' in question:\n",
    "                predictions.append(\"SELECT SUM(amount) FROM sales WHERE date BETWEEN '2023-01-01' AND '2023-03-31';\")\n",
    "            elif '产品' in question and '超过' in question:\n",
    "                predictions.append(\"SELECT p.name FROM products p JOIN sales s ON p.id = s.product_id WHERE s.amount > 1000;\")\n",
    "            elif '类别' in question and '数量' in question:\n",
    "                predictions.append(\"SELECT category, COUNT(*) as product_count FROM products GROUP BY category;\")\n",
    "            else:\n",
    "                predictions.append(\"SELECT * FROM table LIMIT 10;\")\n",
    "        return predictions\n",
    "\n",
    "# 使用实际Text2SQL模型的完整流程\n",
    "def run_full_evaluation():\n",
    "    # 1. 创建评估器实例\n",
    "    evaluator = SalilaText2SQLEvaluator(\n",
    "        use_xinference=True,\n",
    "        xinference_server_url=xinference_server_url,\n",
    "        llm_model_uid=llm_model_uid,\n",
    "        embedding_model_uid=embedding_model_uid,\n",
    "        xinference_api_key=xinference_api_key\n",
    "    )\n",
    "    \n",
    "    # 2. 加载数据集\n",
    "    evaluator.load_dataset(\"test_salila_dataset.json\")\n",
    "    \n",
    "    # 3. 创建Text2SQL模型实例\n",
    "    text2sql_model = YourText2SQLModel()\n",
    "    \n",
    "    # 4. 生成预测\n",
    "    predictions = text2sql_model.generate_predictions(\n",
    "        evaluator.dataset['question'], \n",
    "        evaluator.dataset['context']\n",
    "    )\n",
    "    \n",
    "    # 5. 执行评估\n",
    "    results = evaluator.evaluate_model(predictions)\n",
    "    \n",
    "    # 6. 可视化并保存结果\n",
    "    evaluator.visualize_results()\n",
    "    evaluator.save_results(\"full_evaluation_results.json\")\n",
    "    \n",
    "    return results\n",
    "\n",
    "# 运行完整评估流程\n",
    "try:\n",
    "    full_results = run_full_evaluation()\n",
    "    print(\"\n完整评估流程执行完毕!\")\n",
    "except Exception as e:\n",
    "    print(f\"完整评估流程执行过程中发生错误: {str(e)}")"
   ]
  },
  {
   "cell_type": "markdown",
   "metadata": {},
   "source": [
    "## 11. 结论与扩展建议\n",
    "\n",
    "通过本评估体系，您可以全面了解Text2SQL模型的性能，并根据评估结果进行模型优化。以下是一些扩展建议："
   ]
  },
  {
   "cell_type": "markdown",
   "metadata": {},
   "source": [
    "### 扩展建议\n",
    "\n",
    "1. **自定义评估指标** - 根据特定任务需求，添加更多自定义评估指标\n",
    "2. **批量评估** - 扩展支持批量评估多个Text2SQL模型，比较不同模型的性能\n",
    "3. **交叉验证** - 实现交叉验证功能，提高评估结果的可靠性\n",
    "4. **更多数据集支持** - 扩展支持更多类型的Text2SQL数据集\n",
    "5. **更丰富的可视化** - 添加更多类型的图表来可视化评估结果"
   ]
  },
  {
   "cell_type": "markdown",
   "metadata": {},
   "source": [
    "### 使用xinference本地模型的注意事项\n",
    "\n",
    "1. 确保xinference服务已正确启动：`xinference serve`\n",
    "2. 确保已部署所需的大语言模型和嵌入模型\n",
    "3. 验证xinference服务器URL和端口配置是否正确\n",
    "4. 如果设置了API密钥，确保密钥格式正确且有足够的权限\n",
    "5. 对于大型数据集，评估过程可能需要较长时间，请耐心等待"
   ]
  }
 ],
 "metadata": {
  "kernelspec": {
   "display_name": "Python 3",
   "language": "python",
   "name": "python3"
  },
  "language_info": {
   "codemirror_mode": {
    "name": "ipython",
    "version": 3
   },
   "file_extension": ".py",
   "mimetype": "text/x-python",
   "name": "python",
   "nbconvert_exporter": "python",
   "pygments_lexer": "ipython3",
   "version": "3.10.0"
  }
 },
 "nbformat": 4,
 "nbformat_minor": 4
}